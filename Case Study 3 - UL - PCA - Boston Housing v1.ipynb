{
 "cells": [
  {
   "cell_type": "markdown",
   "metadata": {},
   "source": [
    "# 1. Summary\n",
    "\n",
    "#### Aim:\n",
    "To explore the Boston Housing data set using dimensionality reduction technique, namely, PCA. Particularly, we are interested in understanding the underlying structure of the housing features in the data.\n",
    "\n",
    "#### Data:\n",
    "- A sample of 506 observations and 14 features was provided in the data set.\n",
    "- We have used 12 features from the data: CRIM, ZN, INDUS, CHAS, NOX, RM, AGE, DIS, RAD, TAX, PTRATIO, LSTAT.\n",
    "- We de-scoped the target feature - MEDV, and other feature - CAT. MEDV from the analysis.\n",
    "- We employed standardise method for feature scaling.\n",
    "\n",
    "#### Methods:\n",
    "\n",
    "- Sample size of 404 obs. was used for fitting PCA.\n",
    "\n",
    "\n",
    "#### Results and findings:\n",
    "\n",
    "- The first two PC's explained ~60% of the variation in the data.\n",
    "\n",
    "- PC1: represents spatial density and socio-economic factors - \n",
    "    - Positive influence: INDUS, NOX, AGE, TAX, CRIM, RAD, and LSTAT,\n",
    "    - Negative influence: DIS, ZN, and RM.\n",
    "\n",
    "- PC2: represents lifestyle and liveability - \n",
    "    - Positive influence: CHAS,RM, INDUS, and AGE,\n",
    "    - Negative influence: CRIM, ZN, DIS, and PTRATIO.\n"
   ]
  },
  {
   "cell_type": "markdown",
   "metadata": {},
   "source": [
    "# 2. Technical notes"
   ]
  },
  {
   "cell_type": "markdown",
   "metadata": {},
   "source": [
    "### a. Exploratory data analysis"
   ]
  },
  {
   "cell_type": "code",
   "execution_count": 29,
   "metadata": {},
   "outputs": [
    {
     "name": "stdout",
     "output_type": "stream",
     "text": [
      "Python 3.11.2\n"
     ]
    }
   ],
   "source": [
    "!python --version\n",
    "\n",
    "# import libraries\n",
    "\n",
    "import pandas as pd\n",
    "import numpy as np\n",
    "\n",
    "import matplotlib.pyplot as plt\n",
    "import plotly.express as px\n",
    "import seaborn as sb\n",
    "\n",
    "# import random \n",
    "import random\n",
    "\n",
    "import scipy\n",
    "import statsmodels.api as sm\n",
    "\n",
    "import sklearn\n",
    "from sklearn.preprocessing import QuantileTransformer, MinMaxScaler, StandardScaler, RobustScaler, PowerTransformer\n",
    "from sklearn.model_selection import train_test_split\n",
    "from sklearn.preprocessing import OneHotEncoder\n",
    "\n",
    "from sklearn.decomposition import PCA\n",
    "\n",
    "\n",
    "\n",
    "import warnings\n",
    "warnings.filterwarnings(\"ignore\") # Suppress all warnings\n"
   ]
  },
  {
   "cell_type": "markdown",
   "metadata": {},
   "source": [
    "##### Read in the data "
   ]
  },
  {
   "cell_type": "code",
   "execution_count": 30,
   "metadata": {},
   "outputs": [],
   "source": [
    "data = pd.read_csv('\\DATA\\BostonHousing.csv', index_col=False)"
   ]
  },
  {
   "cell_type": "markdown",
   "metadata": {},
   "source": [
    "##### Inspect the data"
   ]
  },
  {
   "cell_type": "code",
   "execution_count": 31,
   "metadata": {},
   "outputs": [
    {
     "data": {
      "text/plain": [
       "(506, 14)"
      ]
     },
     "execution_count": 31,
     "metadata": {},
     "output_type": "execute_result"
    }
   ],
   "source": [
    "# shape\n",
    "data.shape"
   ]
  },
  {
   "cell_type": "code",
   "execution_count": 32,
   "metadata": {},
   "outputs": [
    {
     "name": "stdout",
     "output_type": "stream",
     "text": [
      "<class 'pandas.core.frame.DataFrame'>\n",
      "RangeIndex: 506 entries, 0 to 505\n",
      "Data columns (total 14 columns):\n",
      " #   Column     Non-Null Count  Dtype  \n",
      "---  ------     --------------  -----  \n",
      " 0   CRIM       506 non-null    float64\n",
      " 1   ZN         506 non-null    float64\n",
      " 2   INDUS      506 non-null    float64\n",
      " 3   CHAS       506 non-null    int64  \n",
      " 4   NOX        506 non-null    float64\n",
      " 5   RM         506 non-null    float64\n",
      " 6   AGE        506 non-null    float64\n",
      " 7   DIS        506 non-null    float64\n",
      " 8   RAD        506 non-null    int64  \n",
      " 9   TAX        506 non-null    int64  \n",
      " 10  PTRATIO    506 non-null    float64\n",
      " 11  LSTAT      506 non-null    float64\n",
      " 12  MEDV       506 non-null    float64\n",
      " 13  CAT. MEDV  506 non-null    int64  \n",
      "dtypes: float64(10), int64(4)\n",
      "memory usage: 55.5 KB\n"
     ]
    }
   ],
   "source": [
    "data.info()"
   ]
  },
  {
   "cell_type": "markdown",
   "metadata": {},
   "source": [
    "##### Scale the numeric features"
   ]
  },
  {
   "cell_type": "code",
   "execution_count": 33,
   "metadata": {},
   "outputs": [],
   "source": [
    "features = ['CRIM', 'ZN', 'INDUS', 'CHAS', 'NOX', 'RM', 'AGE', 'DIS', 'RAD', 'TAX', 'PTRATIO', 'LSTAT']\n",
    "data = data[features]"
   ]
  },
  {
   "cell_type": "code",
   "execution_count": 34,
   "metadata": {},
   "outputs": [],
   "source": [
    "numeric_features = data[features]\n",
    "\n",
    "# Scale\n",
    "scaler = StandardScaler()\n",
    "model = scaler.fit(numeric_features)\n",
    "\n",
    "scaled_data = pd.DataFrame(model.transform(numeric_features))\n",
    "scaled_data.columns = [features]"
   ]
  },
  {
   "cell_type": "markdown",
   "metadata": {},
   "source": [
    "Comments: Standardised the features using standard scaler."
   ]
  },
  {
   "cell_type": "markdown",
   "metadata": {},
   "source": [
    "##### Select random sample from the data set "
   ]
  },
  {
   "cell_type": "code",
   "execution_count": 35,
   "metadata": {},
   "outputs": [
    {
     "data": {
      "text/plain": [
       "(404, 12)"
      ]
     },
     "execution_count": 35,
     "metadata": {},
     "output_type": "execute_result"
    }
   ],
   "source": [
    "X_train, X_test = train_test_split(scaled_data, test_size=0.2, random_state=2901)\n",
    "X_train.shape"
   ]
  },
  {
   "cell_type": "markdown",
   "metadata": {},
   "source": [
    "##### Fit PCA"
   ]
  },
  {
   "cell_type": "code",
   "execution_count": 36,
   "metadata": {},
   "outputs": [],
   "source": [
    "pca = PCA(n_components=12)\n",
    "\n",
    "pca_fit = pca.fit_transform(X_train)"
   ]
  },
  {
   "cell_type": "markdown",
   "metadata": {},
   "source": [
    "PCA performance"
   ]
  },
  {
   "cell_type": "code",
   "execution_count": 37,
   "metadata": {},
   "outputs": [
    {
     "name": "stdout",
     "output_type": "stream",
     "text": [
      "0.9999999999999998\n"
     ]
    }
   ],
   "source": [
    "pca_var = pca.explained_variance_ratio_\n",
    "\n",
    "print(sum(pca.explained_variance_ratio_))"
   ]
  },
  {
   "cell_type": "markdown",
   "metadata": {},
   "source": [
    "##### Visualise the PCs"
   ]
  },
  {
   "cell_type": "code",
   "execution_count": 38,
   "metadata": {},
   "outputs": [
    {
     "data": {
      "text/plain": [
       "Text(0, 0.5, 'Variance')"
      ]
     },
     "execution_count": 38,
     "metadata": {},
     "output_type": "execute_result"
    },
    {
     "data": {
      "image/png": "[encoded data removed]",
      "text/plain": [
       "<Figure size 640x480 with 1 Axes>"
      ]
     },
     "metadata": {},
     "output_type": "display_data"
    }
   ],
   "source": [
    "sb.lineplot(x = range(1, 13), y = pca_var)\n",
    "plt.title('Elbow plot - PCs vs. Variance')\n",
    "plt.xlabel('PCs')\n",
    "plt.ylabel('Variance')"
   ]
  },
  {
   "cell_type": "markdown",
   "metadata": {},
   "source": [
    "Comments:\n",
    "- The first two PCs explain ~60% of the variation in the data."
   ]
  },
  {
   "cell_type": "markdown",
   "metadata": {},
   "source": [
    "##### Fit two PC's to the data"
   ]
  },
  {
   "cell_type": "code",
   "execution_count": 39,
   "metadata": {},
   "outputs": [],
   "source": [
    "pca = PCA(n_components=2)\n",
    "\n",
    "pca_fit = pca.fit_transform(X_train)\n",
    "\n",
    "\n",
    "# Convert to DataFrame\n",
    "df_pca = pd.DataFrame(pca_fit, \n",
    "                      columns=[f'PC{i+1}' for i in range(2)])\n",
    "\n"
   ]
  },
  {
   "cell_type": "markdown",
   "metadata": {},
   "source": [
    "Visualise the PCs"
   ]
  },
  {
   "cell_type": "code",
   "execution_count": 40,
   "metadata": {},
   "outputs": [
    {
     "data": {
      "image/png": "[encoded data removed]",
      "text/plain": [
       "<Figure size 640x480 with 1 Axes>"
      ]
     },
     "metadata": {},
     "output_type": "display_data"
    }
   ],
   "source": [
    "sb.scatterplot(x=df_pca['PC1'], y=df_pca['PC2'])\n",
    "plt.xlabel(\"Principal Component 1\")\n",
    "plt.ylabel(\"Principal Component 2\")\n",
    "plt.title(\"PCA Scatter Plot\")\n",
    "plt.show()"
   ]
  },
  {
   "cell_type": "markdown",
   "metadata": {},
   "source": [
    "Comments: We could visualise the first two PCs on a scatter plot, but it is not interpretable."
   ]
  },
  {
   "cell_type": "markdown",
   "metadata": {},
   "source": [
    "Visualise the first two PCs with loading scores"
   ]
  },
  {
   "cell_type": "code",
   "execution_count": 41,
   "metadata": {},
   "outputs": [],
   "source": [
    "loadings = pca.components_.T * np.sqrt(pca.explained_variance_)"
   ]
  },
  {
   "cell_type": "code",
   "execution_count": 42,
   "metadata": {},
   "outputs": [
    {
     "data": {
      "application/vnd.plotly.v1+json": {
       "config": {
        "plotlyServerURL": "https://plot.ly"
       },
       "data": [
        {
         "hovertemplate": "PC1=%{x}<br>PC2=%{y}<extra></extra>",
         "legendgroup": "",
         "marker": {
          "color": "#636efa",
          "symbol": "circle"
         },
         "mode": "markers",
         "name": "",
         "orientation": "v",
         "showlegend": false,
         "type": "scatter",
         "x": [
          0.000919955741258219,
          -0.6677195447784248,
          0.49335806961649137,
          -1.8925725089888867,
          2.8002448052184636,
          1.6598526259727027,
          2.341621080162118,
          -1.156011136002707,
          5.081349697361615,
          -1.1522681630784737,
          -0.14343780478387688,
          1.861931516919004,
          -2.433255761710117,
          -1.2168781863913056,
          -0.12282473556164628,
          -1.9760545865797838,
          2.696134791516924,
          -1.8493263451393096,
          -2.2620195760539983,
          2.6681510393562577,
          3.7298895463859596,
          0.21794857008660712,
          -1.1920178075800907,
          0.5402166845365545,
          -2.4711185502787605,
          -2.507101958592353,
          -3.6249274608598547,
          4.483687621155777,
          -4.395877146539303,
          -4.267452946242076,
          -0.11640734344212082,
          -1.1745166114405625,
          0.6004591994048034,
          -1.5865195580648483,
          1.7638959254537054,
          -0.4102297050210116,
          -1.7517410817129704,
          -1.489489135249264,
          -1.7073184960693486,
          -1.2207477400772806,
          0.6235028116158778,
          -0.7653214427504186,
          -1.0636669960852538,
          3.973578182805247,
          -2.099788180518318,
          -0.8446119566606606,
          0.004877362411960732,
          0.6269340287089611,
          -2.5132203768244037,
          -2.7212052763571526,
          0.21653816327724373,
          1.6555941364333955,
          -4.4358232995353415,
          -1.2434084162088317,
          -4.848055282824745,
          -1.7417973767097148,
          -2.514823133623826,
          0.3483122967317221,
          3.1979698896318345,
          2.6808080932838076,
          -1.4089455379502274,
          -1.6439589780692572,
          -4.2688801790122755,
          -2.7607082001315977,
          3.0748145468585766,
          -1.0186368798454626,
          -0.514636779815873,
          -4.387782520613772,
          -3.87936885273575,
          -1.0512051274159997,
          -2.1924179227877785,
          -1.4025789522360999,
          -1.9524453905672838,
          -2.283621209406149,
          0.10068988437635198,
          3.9305196037325754,
          3.7899976298175218,
          -3.121757606750024,
          -0.035792194302162926,
          0.9449699300810468,
          -0.952812251190854,
          -1.6451526950105249,
          -2.8741360735202783,
          -0.17988807889076033,
          -1.3316759761123664,
          2.8521808129403716,
          -1.0737321002124411,
          5.369707963833269,
          -0.8403109526296971,
          3.563705183624904,
          -2.822928583935574,
          4.01756822372838,
          2.7937069414753357,
          -2.305551244948902,
          -0.9685470017963821,
          3.7032423532767447,
          -1.345908528365666,
          -1.80925110328877,
          0.1454227076530257,
          -1.8083678401569543,
          -0.6460917755251149,
          -1.6154416158243912,
          -2.000375583482744,
          3.189094011162612,
          5.7570714208465485,
          1.7407398064140542,
          -0.8336656364197577,
          -0.03791809397230179,
          -0.08782630290875722,
          -1.3656871971415743,
          -1.1594460597215681,
          3.456449851046539,
          -0.29636548706060156,
          3.4111357473395216,
          -1.245934809619303,
          -3.6092941619903844,
          3.199106300540431,
          2.698854945744742,
          -2.0193848525060325,
          -1.7926059715716862,
          2.0849033497559746,
          -1.531541809184854,
          -1.7526709717356426,
          2.9902973825939987,
          3.040373700804023,
          2.707505639115132,
          -2.021218986198096,
          -3.030652697515702,
          1.4259733286954495,
          -4.311703130561353,
          -0.7392460754286075,
          -0.7059508723704884,
          0.5102505694194429,
          0.6887327334502271,
          2.126960251141502,
          2.1757851718459564,
          -3.027120855144645,
          -2.2580050313240556,
          -1.9937233889695398,
          -1.096673324696067,
          -1.6775435485509065,
          4.721227265777526,
          -1.6672285403126081,
          2.706899699852732,
          -1.2582872314925473,
          -2.063325184747246,
          -1.3938639643602093,
          2.806859607090623,
          3.1388373313437326,
          -2.515570158536781,
          -2.4233950562866444,
          4.67851063307852,
          -0.24210840189620292,
          -1.6414267558086308,
          -1.8053455707140698,
          2.1576671599952544,
          3.3644095648504155,
          -1.6359056805411976,
          -0.42666595420223163,
          -0.9751519823289962,
          -2.619349712022213,
          -0.3123137546332511,
          -1.4519999581836798,
          -3.230375037416492,
          -1.8614606834128786,
          2.5445093649405797,
          0.8304342843594472,
          -4.012936889515605,
          1.9237949037069835,
          -0.5650415893875284,
          -1.49888882770655,
          -1.2228149908093313,
          3.3912103584940176,
          -0.6698419946921493,
          2.0701648187640234,
          1.1822079931568292,
          -4.790435364342579,
          5.000108702232184,
          -3.576626713585499,
          3.1664548598557776,
          -3.7060152763581327,
          0.18071569336223006,
          -4.217178749804003,
          0.7966567995593954,
          -3.3668656786485376,
          4.012916401392219,
          -0.10473050862663787,
          -1.9969949731513796,
          0.5983449676287628,
          -0.757116711173823,
          3.365085733595081,
          -2.190106925722095,
          0.6133010721827563,
          -2.03811112701447,
          3.1941460385771667,
          0.44197728659253427,
          -1.4150497478075454,
          -3.8397955833664517,
          -3.929541327605489,
          3.7244675694983624,
          -0.2762379302560578,
          0.6684935808143879,
          2.016319374819372,
          -3.5749898134017326,
          -2.5123869881409506,
          -2.2257204548503653,
          -1.7959992911789668,
          1.3290913415675756,
          3.7276739685395057,
          0.36020603482343744,
          -1.7905645266559516,
          -2.1540077505776356,
          0.696714686539326,
          -0.2534859569371145,
          -3.4676145876415667,
          3.6918405190460257,
          2.19151667054103,
          -0.34957686498041596,
          2.9055919376013057,
          -0.15307523384222158,
          1.5671388291452781,
          -2.156455578262145,
          -2.2706067352126857,
          -2.8318687582138917,
          1.728183794656504,
          -2.0131171831653734,
          3.0451233016654875,
          0.09175149225001503,
          3.5272227596384704,
          2.841908968410432,
          0.19578607098533293,
          1.7564398951065556,
          3.4248228616529053,
          -1.3197477231246757,
          3.509031579194869,
          1.9744523980592397,
          0.06504501623080505,
          5.396258137119283,
          -1.1215456517084055,
          -3.266894950492077,
          2.6060034481671295,
          3.24301748227699,
          -1.3635024663980648,
          0.6039093527113476,
          0.6309958914783059,
          3.2014778340669294,
          -3.799528257097171,
          3.0877225787176026,
          4.109052036750815,
          3.1470065255226025,
          -1.2123101784100843,
          1.6448127203929181,
          -0.3880459563308449,
          1.6747930227757957,
          -1.5986766266946935,
          -0.1082372238062362,
          -1.6911187708960103,
          4.603522258860802,
          -3.134026276039659,
          0.16318826053997124,
          0.36641192363283437,
          -2.6533013123918723,
          0.4858625077677897,
          2.262758526213113,
          2.8359331794108855,
          3.621511658448198,
          2.043367318048571,
          0.5348490416107647,
          -0.4190481471773092,
          3.357963174001897,
          -1.147825381427551,
          1.6871913671109062,
          -3.4690203241906112,
          0.07389547664587863,
          1.8347933707420918,
          1.8979057186483246,
          -0.5297546662816172,
          -4.343281099965559,
          -2.751855697113449,
          0.8476351861398952,
          5.509654064626135,
          -2.944170550593986,
          4.5116135582520105,
          0.17391610758936296,
          4.0457435450931305,
          -1.7935157565007884,
          -2.366292443606523,
          2.8289675270992647,
          -3.0416538210810025,
          -1.2857979888089768,
          3.486686331568129,
          -1.5503917423200542,
          4.4565953611952605,
          -0.7747426963628868,
          -0.8937883377598845,
          2.9664542275146872,
          -1.3840992376258732,
          -3.075272307800944,
          2.1515282284464945,
          0.2761484253814813,
          1.7240133247151632,
          -2.8940833174081564,
          2.819284101204666,
          -2.0109819015277517,
          -1.867452947816277,
          -4.204342013501589,
          -0.5787382144865963,
          1.9498759323376256,
          -4.1674333093553235,
          3.2608953762711432,
          0.8559399816091146,
          -0.8344436129306212,
          -1.8914979275320563,
          -0.6212962377569947,
          1.453403852843503,
          0.34477892032305213,
          -0.9029534077296149,
          -1.1746193465217278,
          1.5321932668903855,
          4.290465409594886,
          -3.684179737586417,
          2.2029381975850155,
          -0.6506707354579824,
          3.7412886986924443,
          2.80278577570606,
          3.0554195196722613,
          3.496276031178542,
          3.3564379496498167,
          -4.278346054889843,
          -0.23806892648621233,
          0.3803996626118754,
          3.381114165168406,
          2.759242638732729,
          0.009276551427148665,
          2.7188172125614676,
          -0.8739306481295585,
          4.250128533571165,
          -3.310099665592173,
          -1.1944980936897225,
          -2.6181780247773,
          2.701242156321577,
          2.225881970946087,
          -2.910826544098701,
          2.804644141374455,
          -2.4304313983870274,
          0.7277673787818422,
          -0.5877009254261697,
          1.1279687851574496,
          -1.5786801933081704,
          -3.12332178645525,
          3.877867812562894,
          -1.12173925801801,
          -0.29009564691728457,
          -1.1717624052224125,
          2.947636555876492,
          2.027346433514182,
          -1.639378626206968,
          0.06429249584602773,
          -3.3062580570115534,
          -0.2258808244349465,
          -0.7132782616471888,
          1.3110658454391357,
          -1.2114564428183279,
          -3.340864028433464,
          0.5832712737540588,
          2.8848656703537197,
          -1.1791240498316304,
          -1.0885879369526188,
          -2.393689148306331,
          0.7644720256512082,
          -0.062246115992521556,
          -1.6977120695126193,
          -3.9166903478894017,
          -0.9943759338682014,
          3.3564713887183655,
          3.2483370394238467,
          0.46195317583730766,
          -2.569089380760067,
          0.446310488477419,
          2.79107701619626,
          -2.2486383600480493,
          0.5286014916184144,
          -0.5377811838836338,
          -2.291678116688015,
          -3.7320277000448723,
          4.432958821696202,
          -1.4159769427817368,
          2.3162793641768973,
          3.474104387635604,
          -1.382149853111121,
          -3.018044029384401,
          3.031304705190983,
          1.9470060700435035,
          3.2593658272062487,
          0.05025712090878584,
          -0.9015526808180601,
          -4.445351092591413,
          -1.937198132346414,
          -1.6139374995528626,
          -3.0503390247267785,
          -1.3160638705821377,
          -1.6555427291319729,
          3.054447498520576,
          3.203230506942718
         ],
         "xaxis": "x",
         "y": [
          2.4176737216098063,
          0.3563430390936149,
          -0.3697089458545098,
          0.6853310139499764,
          2.1733566109442406,
          0.6249484951431813,
          -0.6139433608090795,
          -0.14452178912011576,
          -1.85184613968356,
          0.2523724716139841,
          -0.403883431425348,
          3.7724137567221474,
          -0.5898302711369959,
          0.1086798258735068,
          2.3357993747714985,
          0.5942573592388866,
          -0.2839375211816937,
          -0.5692571970493472,
          -0.8106148255943759,
          -0.537235405509249,
          -0.5881271865171824,
          -0.3147694076620048,
          0.5167199246658941,
          2.0857217840548,
          2.306973417232566,
          -0.46758962224671663,
          -0.8017010162680237,
          -1.2179759191479025,
          -1.1660572446379798,
          -1.0387846880405092,
          4.663436157823509,
          -0.5204253054402133,
          -0.5437156974068227,
          1.2325844904602696,
          0.47011594913855254,
          0.6400893318408611,
          0.12122702321286279,
          -0.619406744386434,
          0.41664861154383,
          0.9047722772069413,
          0.38236970709759094,
          0.6179935756744463,
          -0.6396975886750108,
          -0.6131227778559522,
          -0.17740145328834164,
          -0.20591191757252414,
          -0.34007771469531495,
          1.4671033681448002,
          -0.07555780997342453,
          -0.31935533222446977,
          1.972731303828634,
          4.018139527265318,
          -0.30278866742690624,
          0.14819748647459463,
          2.2988971778494576,
          -0.6231298014303498,
          -0.0062486259552269295,
          0.1876396459828198,
          -0.1814714062040828,
          -0.5305687032888639,
          -0.5563538974449691,
          2.440754990019753,
          -0.3323600842189853,
          0.3700575341174169,
          -0.035835441051190735,
          1.919586810094414,
          0.047172327313338085,
          -0.03755067439053405,
          -1.9711853542910474,
          -0.2523926802446931,
          -0.5342182115660317,
          -0.02457919501395593,
          -0.693051824251994,
          -0.6051060417373568,
          -0.5122244251854368,
          -0.762699138508411,
          -0.604711244805235,
          -1.290419395382474,
          -0.6985046182311635,
          0.9162322694470049,
          -0.02167689901586639,
          -0.61952674506595,
          -0.9960825929276577,
          3.3299435021259556,
          2.0509524421932475,
          -0.16054235342163478,
          -0.5682807970272603,
          -2.6425075420221673,
          2.7192252706477484,
          -0.3347727087203064,
          1.0192845198214329,
          -1.0127246029871502,
          0.22604892043145702,
          -1.4113857067350546,
          0.025869622315759448,
          -0.6109095252020957,
          -0.5326815225007125,
          -0.37667997667796543,
          0.4183112926845765,
          -0.17068827813608098,
          -0.17681161811332166,
          -1.3100994762656326,
          0.7058641849901621,
          -0.08282696431112899,
          -2.6107003557035573,
          0.5508934167402971,
          0.8072751594717024,
          -0.2390839435823482,
          -0.32562388685869076,
          -0.23880773354787255,
          0.636879015437225,
          -0.42538431265415455,
          4.816820181997934,
          -0.3212531737698957,
          0.12643466290738897,
          -1.902492776513894,
          2.1693550476856,
          -0.9982712932240545,
          -0.7536524757711779,
          0.15178455422698228,
          -0.5345554088953909,
          -0.2514331524843781,
          0.1162197064723781,
          -0.40889361654384737,
          -0.4131675362731147,
          -1.231379766626646,
          -2.386042922770615,
          -1.1577221173467065,
          -0.27742713965849575,
          -0.0367825019455198,
          2.9501531633984843,
          0.23402156824432893,
          -0.25095696137601137,
          -0.46578931706077215,
          -0.8755218296855504,
          -0.42424094545882207,
          3.064272331331677,
          1.5500743694343853,
          0.15664774097908185,
          -0.37479083151172893,
          0.2594514533288243,
          -1.5884336133631578,
          1.296002313388134,
          -0.10312557413229011,
          0.4355537395961626,
          1.980456790645644,
          0.8920166141507282,
          -0.12871313127229428,
          -0.10976697854720753,
          2.1226108254734832,
          0.6823218715246956,
          -1.6945256207256616,
          -0.23567668714004308,
          -0.5160448229088638,
          0.7636906691263731,
          0.243902329200535,
          -0.20502105499075712,
          -0.9712524282961137,
          -0.8260902292946514,
          2.7809068934741172,
          -1.2070331989177718,
          0.18673723072950668,
          1.1657073062976306,
          -1.2653524181855638,
          -0.8405444384962907,
          -1.055018389098422,
          0.8703833911999703,
          -1.7495309630608031,
          0.17743334153413315,
          -0.5111460034522038,
          -0.5754517458587832,
          0.018935193237461186,
          -0.3289648229171119,
          -0.03113936589514859,
          -0.4910858001184746,
          0.8718302855811964,
          -1.9384331251560032,
          -1.7993957115219705,
          -1.7607011325034343,
          -0.21526924770254977,
          -0.9449562402836448,
          0.5985356227971053,
          -1.543722873503311,
          -0.1883597044016462,
          -3.149078113686864,
          -1.5373772098986762,
          0.21027750626960393,
          -0.4426071117025179,
          -0.026452751600320238,
          0.09682719092007785,
          -0.12585340606299977,
          1.0274532826074707,
          0.4241793896358905,
          -1.1087743184282277,
          -0.4543169667346904,
          -0.0030452196812167636,
          -0.04678460522374879,
          -1.2384540491804144,
          -0.7335725740342728,
          -0.8758925169781329,
          0.3687564412828721,
          -0.6542544667505663,
          0.12754513082709104,
          -0.8873074422645093,
          -0.6402439451310723,
          -1.1188484143556046,
          -0.5984437275303331,
          -1.232302334709828,
          -1.3191881270535246,
          0.055048868051195084,
          -1.2609889954134144,
          2.7006610564734976,
          0.6733984141533054,
          0.35906202499860473,
          -0.7527236936620131,
          -1.3506994645489243,
          2.79394817496556,
          -0.030571088656498106,
          -0.04518957794709787,
          2.1846022025940557,
          0.6883494880663318,
          -1.40209264046303,
          -0.6939857117536214,
          -0.3538070954870214,
          0.235814522005212,
          0.5559425566108624,
          -0.19052059687626216,
          -0.3978607784662808,
          -0.39120967186544436,
          1.0681038446380107,
          -0.06809884613168597,
          4.198030128601597,
          2.14886119735907,
          0.3174330600759627,
          -0.7939290571637462,
          0.24005984573615896,
          0.3545667567690261,
          -2.5945932722622738,
          -0.40679967851448556,
          -1.3309642891208404,
          1.3360966689897724,
          -0.4358421919830055,
          -1.2978717585716657,
          1.6061308101237524,
          1.3420888857237792,
          -0.12326641934303297,
          -0.7167908413012738,
          -0.41620543210921324,
          -1.7688141668278028,
          -0.11533414476107581,
          0.9135580114736216,
          -1.077024039967301,
          0.5642723199548121,
          3.4885109341689353,
          -0.5191100252188445,
          -0.0012801006452763523,
          -0.17801563571839485,
          -1.580291805484934,
          -1.5627219502445229,
          -0.35155342850853144,
          3.0587630850693093,
          -0.31082137351029987,
          -0.010624279048965953,
          2.638140632935136,
          -0.38310914281638137,
          -0.6112844972277932,
          1.6908385750307433,
          -0.3569067533904131,
          2.0701800608982044,
          -0.5303844841665907,
          1.9617079428247448,
          -0.8211835509606847,
          -0.9911791508218506,
          0.055229051367953,
          0.2974892681823978,
          -0.1862265498718989,
          0.3647482862697473,
          -0.49783562112854207,
          0.00807607504247592,
          1.1863336066971317,
          -2.494342268022684,
          0.31967170831340436,
          -1.7709038610367382,
          0.05871163987365922,
          -1.1924806405229507,
          -0.15263001683207586,
          -1.1115333309662578,
          -0.6302346028356588,
          -0.6947994156916716,
          0.38186611534749304,
          -0.4236187234816328,
          -0.8608284512199508,
          -1.5893744666200809,
          0.1029149212797633,
          1.607751934629161,
          -0.0021526386319024138,
          -1.3068967702089251,
          -0.9415791067080799,
          0.2692290537849949,
          0.13350332236001872,
          1.9326421228583752,
          -0.8362158635468125,
          -0.3876330405381948,
          1.1221184936108441,
          -0.7908252931575316,
          -0.5979951115767503,
          -0.4422505185635997,
          0.4220095947204717,
          -1.0392625764890795,
          -0.5065792550890601,
          -0.31728583232198904,
          0.4166236588583713,
          -0.7968593203219873,
          0.07927990563069935,
          0.5925136668832589,
          -0.054631464058185975,
          0.9441777132134205,
          -0.5899895613737992,
          0.6401112498865154,
          -1.4987612414727058,
          -1.3403185256361825,
          0.2730391837368513,
          0.7795466981021355,
          -0.8471931124543965,
          -0.06823114077341369,
          -0.6226848040860641,
          -0.441074706660821,
          -0.37957724021628186,
          -0.12321109197775185,
          0.05245355107543557,
          -0.013108449007232166,
          -0.43099970711913393,
          -0.3723563369109304,
          0.5045087362916919,
          -0.3041564904017838,
          -0.5368528255558914,
          -1.058149905005046,
          -0.3345942667941325,
          -0.6234348708003348,
          -0.8291759372708702,
          -0.2991823503996305,
          1.4931665506280247,
          -0.5445748584312936,
          -0.5797456901367424,
          -0.05162633784377647,
          1.1870025000909332,
          2.17179477894303,
          0.8585480186410576,
          -0.731197668374274,
          -1.1466527738238368,
          -0.8208555151913577,
          0.15148470396577693,
          2.767014735573664,
          -1.4961957344176668,
          -0.595204449027561,
          1.4604559732096174,
          0.13082005086416815,
          0.3505472747600827,
          -1.0962229613163599,
          -1.1270005870628792,
          -0.3906568287071716,
          2.2664739357130115,
          -0.08140516805567415,
          -0.01591350940212232,
          1.0839096143825404,
          2.3857768817775744,
          -0.14985528564702763,
          2.090094825307313,
          -0.5475778706809524,
          -0.06788360255647972,
          0.7089372458244799,
          0.3057791070711472,
          -1.6936526661717115,
          0.8729173657715541,
          -0.22102206354004883,
          -0.2248348987562179,
          2.0184592117742155,
          -1.2599846250021702,
          3.944333011184348,
          1.0490084878667185,
          -0.42016369518032903,
          0.33883735831839934,
          -0.38672588564817895,
          -0.3598842669516532,
          -2.037073314627373,
          -1.2355916793932826,
          -0.3842527669598697,
          -0.6532257565390038,
          -0.286374815236127,
          1.4159839776150196,
          -1.4282209594790338,
          -0.6757244523300844,
          1.7157136606101386,
          -0.31541650056424936,
          0.3517108048220973,
          -0.28839501483904423,
          -1.5513808663151585,
          -1.1194951526859764,
          1.262030008252019,
          -0.5176205483414541,
          1.3722547159399066,
          0.022993964610004688,
          -0.02632250984552755,
          -0.03976634706366308
         ],
         "yaxis": "y"
        }
       ],
       "layout": {
        "annotations": [
         {
          "arrowhead": 2,
          "arrowsize": 2,
          "ax": 0,
          "axref": "x",
          "ay": 0,
          "ayref": "y",
          "showarrow": true,
          "x": 0.6465767995553934,
          "xanchor": "right",
          "y": -0.3431725720845122,
          "yanchor": "top"
         },
         {
          "ax": 0,
          "ay": 0,
          "text": "CRIM",
          "x": 0.6465767995553934,
          "xanchor": "center",
          "y": -0.3431725720845122,
          "yanchor": "bottom",
          "yshift": 5
         },
         {
          "arrowhead": 2,
          "arrowsize": 2,
          "ax": 0,
          "axref": "x",
          "ay": 0,
          "ayref": "y",
          "showarrow": true,
          "x": -0.6581206277799272,
          "xanchor": "right",
          "y": -0.29359284188620693,
          "yanchor": "top"
         },
         {
          "ax": 0,
          "ay": 0,
          "text": "ZN",
          "x": -0.6581206277799272,
          "xanchor": "center",
          "y": -0.29359284188620693,
          "yanchor": "bottom",
          "yshift": 5
         },
         {
          "arrowhead": 2,
          "arrowsize": 2,
          "ax": 0,
          "axref": "x",
          "ay": 0,
          "ayref": "y",
          "showarrow": true,
          "x": 0.8538003486042612,
          "xanchor": "right",
          "y": 0.14312157884511728,
          "yanchor": "top"
         },
         {
          "ax": 0,
          "ay": 0,
          "text": "INDUS",
          "x": 0.8538003486042612,
          "xanchor": "center",
          "y": 0.14312157884511728,
          "yanchor": "bottom",
          "yshift": 5
         },
         {
          "arrowhead": 2,
          "arrowsize": 2,
          "ax": 0,
          "axref": "x",
          "ay": 0,
          "ayref": "y",
          "showarrow": true,
          "x": 0.01964923332075301,
          "xanchor": "right",
          "y": 0.7024115998781651,
          "yanchor": "top"
         },
         {
          "ax": 0,
          "ay": 0,
          "text": "CHAS",
          "x": 0.01964923332075301,
          "xanchor": "center",
          "y": 0.7024115998781651,
          "yanchor": "bottom",
          "yshift": 5
         },
         {
          "arrowhead": 2,
          "arrowsize": 2,
          "ax": 0,
          "axref": "x",
          "ay": 0,
          "ayref": "y",
          "showarrow": true,
          "x": 0.8419813918869274,
          "xanchor": "right",
          "y": 0.2638899996663293,
          "yanchor": "top"
         },
         {
          "ax": 0,
          "ay": 0,
          "text": "NOX",
          "x": 0.8419813918869274,
          "xanchor": "center",
          "y": 0.2638899996663293,
          "yanchor": "bottom",
          "yshift": 5
         },
         {
          "arrowhead": 2,
          "arrowsize": 2,
          "ax": 0,
          "axref": "x",
          "ay": 0,
          "ayref": "y",
          "showarrow": true,
          "x": -0.49329580012875035,
          "xanchor": "right",
          "y": 0.3441738137214136,
          "yanchor": "top"
         },
         {
          "ax": 0,
          "ay": 0,
          "text": "RM",
          "x": -0.49329580012875035,
          "xanchor": "center",
          "y": 0.3441738137214136,
          "yanchor": "bottom",
          "yshift": 5
         },
         {
          "arrowhead": 2,
          "arrowsize": 2,
          "ax": 0,
          "axref": "x",
          "ay": 0,
          "ayref": "y",
          "showarrow": true,
          "x": 0.7992046530452404,
          "xanchor": "right",
          "y": 0.3057411311799048,
          "yanchor": "top"
         },
         {
          "ax": 0,
          "ay": 0,
          "text": "AGE",
          "x": 0.7992046530452404,
          "xanchor": "center",
          "y": 0.3057411311799048,
          "yanchor": "bottom",
          "yshift": 5
         },
         {
          "arrowhead": 2,
          "arrowsize": 2,
          "ax": 0,
          "axref": "x",
          "ay": 0,
          "ayref": "y",
          "showarrow": true,
          "x": -0.8089833145780786,
          "xanchor": "right",
          "y": -0.37840611931175533,
          "yanchor": "top"
         },
         {
          "ax": 0,
          "ay": 0,
          "text": "DIS",
          "x": -0.8089833145780786,
          "xanchor": "center",
          "y": -0.37840611931175533,
          "yanchor": "bottom",
          "yshift": 5
         },
         {
          "arrowhead": 2,
          "arrowsize": 2,
          "ax": 0,
          "axref": "x",
          "ay": 0,
          "ayref": "y",
          "showarrow": true,
          "x": 0.7706539993623975,
          "xanchor": "right",
          "y": -0.218668659415737,
          "yanchor": "top"
         },
         {
          "ax": 0,
          "ay": 0,
          "text": "RAD",
          "x": 0.7706539993623975,
          "xanchor": "center",
          "y": -0.218668659415737,
          "yanchor": "bottom",
          "yshift": 5
         },
         {
          "arrowhead": 2,
          "arrowsize": 2,
          "ax": 0,
          "axref": "x",
          "ay": 0,
          "ayref": "y",
          "showarrow": true,
          "x": 0.8173839553809235,
          "xanchor": "right",
          "y": -0.19681024298979108,
          "yanchor": "top"
         },
         {
          "ax": 0,
          "ay": 0,
          "text": "TAX",
          "x": 0.8173839553809235,
          "xanchor": "center",
          "y": -0.19681024298979108,
          "yanchor": "bottom",
          "yshift": 5
         },
         {
          "arrowhead": 2,
          "arrowsize": 2,
          "ax": 0,
          "axref": "x",
          "ay": 0,
          "ayref": "y",
          "showarrow": true,
          "x": 0.5358443464818841,
          "xanchor": "right",
          "y": -0.4018376018811846,
          "yanchor": "top"
         },
         {
          "ax": 0,
          "ay": 0,
          "text": "PTRATIO",
          "x": 0.5358443464818841,
          "xanchor": "center",
          "y": -0.4018376018811846,
          "yanchor": "bottom",
          "yshift": 5
         },
         {
          "arrowhead": 2,
          "arrowsize": 2,
          "ax": 0,
          "axref": "x",
          "ay": 0,
          "ayref": "y",
          "showarrow": true,
          "x": 0.7877150174317259,
          "xanchor": "right",
          "y": -0.21010937520057055,
          "yanchor": "top"
         },
         {
          "ax": 0,
          "ay": 0,
          "text": "LSTAT",
          "x": 0.7877150174317259,
          "xanchor": "center",
          "y": -0.21010937520057055,
          "yanchor": "bottom",
          "yshift": 5
         }
        ],
        "legend": {
         "tracegroupgap": 0
        },
        "template": {
         "data": {
          "bar": [
           {
            "error_x": {
             "color": "#2a3f5f"
            },
            "error_y": {
             "color": "#2a3f5f"
            },
            "marker": {
             "line": {
              "color": "#E5ECF6",
              "width": 0.5
             },
             "pattern": {
              "fillmode": "overlay",
              "size": 10,
              "solidity": 0.2
             }
            },
            "type": "bar"
           }
          ],
          "barpolar": [
           {
            "marker": {
             "line": {
              "color": "#E5ECF6",
              "width": 0.5
             },
             "pattern": {
              "fillmode": "overlay",
              "size": 10,
              "solidity": 0.2
             }
            },
            "type": "barpolar"
           }
          ],
          "carpet": [
           {
            "aaxis": {
             "endlinecolor": "#2a3f5f",
             "gridcolor": "white",
             "linecolor": "white",
             "minorgridcolor": "white",
             "startlinecolor": "#2a3f5f"
            },
            "baxis": {
             "endlinecolor": "#2a3f5f",
             "gridcolor": "white",
             "linecolor": "white",
             "minorgridcolor": "white",
             "startlinecolor": "#2a3f5f"
            },
            "type": "carpet"
           }
          ],
          "choropleth": [
           {
            "colorbar": {
             "outlinewidth": 0,
             "ticks": ""
            },
            "type": "choropleth"
           }
          ],
          "contour": [
           {
            "colorbar": {
             "outlinewidth": 0,
             "ticks": ""
            },
            "colorscale": [
             [
              0,
              "#0d0887"
             ],
             [
              0.1111111111111111,
              "#46039f"
             ],
             [
              0.2222222222222222,
              "#7201a8"
             ],
             [
              0.3333333333333333,
              "#9c179e"
             ],
             [
              0.4444444444444444,
              "#bd3786"
             ],
             [
              0.5555555555555556,
              "#d8576b"
             ],
             [
              0.6666666666666666,
              "#ed7953"
             ],
             [
              0.7777777777777778,
              "#fb9f3a"
             ],
             [
              0.8888888888888888,
              "#fdca26"
             ],
             [
              1,
              "#f0f921"
             ]
            ],
            "type": "contour"
           }
          ],
          "contourcarpet": [
           {
            "colorbar": {
             "outlinewidth": 0,
             "ticks": ""
            },
            "type": "contourcarpet"
           }
          ],
          "heatmap": [
           {
            "colorbar": {
             "outlinewidth": 0,
             "ticks": ""
            },
            "colorscale": [
             [
              0,
              "#0d0887"
             ],
             [
              0.1111111111111111,
              "#46039f"
             ],
             [
              0.2222222222222222,
              "#7201a8"
             ],
             [
              0.3333333333333333,
              "#9c179e"
             ],
             [
              0.4444444444444444,
              "#bd3786"
             ],
             [
              0.5555555555555556,
              "#d8576b"
             ],
             [
              0.6666666666666666,
              "#ed7953"
             ],
             [
              0.7777777777777778,
              "#fb9f3a"
             ],
             [
              0.8888888888888888,
              "#fdca26"
             ],
             [
              1,
              "#f0f921"
             ]
            ],
            "type": "heatmap"
           }
          ],
          "heatmapgl": [
           {
            "colorbar": {
             "outlinewidth": 0,
             "ticks": ""
            },
            "colorscale": [
             [
              0,
              "#0d0887"
             ],
             [
              0.1111111111111111,
              "#46039f"
             ],
             [
              0.2222222222222222,
              "#7201a8"
             ],
             [
              0.3333333333333333,
              "#9c179e"
             ],
             [
              0.4444444444444444,
              "#bd3786"
             ],
             [
              0.5555555555555556,
              "#d8576b"
             ],
             [
              0.6666666666666666,
              "#ed7953"
             ],
             [
              0.7777777777777778,
              "#fb9f3a"
             ],
             [
              0.8888888888888888,
              "#fdca26"
             ],
             [
              1,
              "#f0f921"
             ]
            ],
            "type": "heatmapgl"
           }
          ],
          "histogram": [
           {
            "marker": {
             "pattern": {
              "fillmode": "overlay",
              "size": 10,
              "solidity": 0.2
             }
            },
            "type": "histogram"
           }
          ],
          "histogram2d": [
           {
            "colorbar": {
             "outlinewidth": 0,
             "ticks": ""
            },
            "colorscale": [
             [
              0,
              "#0d0887"
             ],
             [
              0.1111111111111111,
              "#46039f"
             ],
             [
              0.2222222222222222,
              "#7201a8"
             ],
             [
              0.3333333333333333,
              "#9c179e"
             ],
             [
              0.4444444444444444,
              "#bd3786"
             ],
             [
              0.5555555555555556,
              "#d8576b"
             ],
             [
              0.6666666666666666,
              "#ed7953"
             ],
             [
              0.7777777777777778,
              "#fb9f3a"
             ],
             [
              0.8888888888888888,
              "#fdca26"
             ],
             [
              1,
              "#f0f921"
             ]
            ],
            "type": "histogram2d"
           }
          ],
          "histogram2dcontour": [
           {
            "colorbar": {
             "outlinewidth": 0,
             "ticks": ""
            },
            "colorscale": [
             [
              0,
              "#0d0887"
             ],
             [
              0.1111111111111111,
              "#46039f"
             ],
             [
              0.2222222222222222,
              "#7201a8"
             ],
             [
              0.3333333333333333,
              "#9c179e"
             ],
             [
              0.4444444444444444,
              "#bd3786"
             ],
             [
              0.5555555555555556,
              "#d8576b"
             ],
             [
              0.6666666666666666,
              "#ed7953"
             ],
             [
              0.7777777777777778,
              "#fb9f3a"
             ],
             [
              0.8888888888888888,
              "#fdca26"
             ],
             [
              1,
              "#f0f921"
             ]
            ],
            "type": "histogram2dcontour"
           }
          ],
          "mesh3d": [
           {
            "colorbar": {
             "outlinewidth": 0,
             "ticks": ""
            },
            "type": "mesh3d"
           }
          ],
          "parcoords": [
           {
            "line": {
             "colorbar": {
              "outlinewidth": 0,
              "ticks": ""
             }
            },
            "type": "parcoords"
           }
          ],
          "pie": [
           {
            "automargin": true,
            "type": "pie"
           }
          ],
          "scatter": [
           {
            "fillpattern": {
             "fillmode": "overlay",
             "size": 10,
             "solidity": 0.2
            },
            "type": "scatter"
           }
          ],
          "scatter3d": [
           {
            "line": {
             "colorbar": {
              "outlinewidth": 0,
              "ticks": ""
             }
            },
            "marker": {
             "colorbar": {
              "outlinewidth": 0,
              "ticks": ""
             }
            },
            "type": "scatter3d"
           }
          ],
          "scattercarpet": [
           {
            "marker": {
             "colorbar": {
              "outlinewidth": 0,
              "ticks": ""
             }
            },
            "type": "scattercarpet"
           }
          ],
          "scattergeo": [
           {
            "marker": {
             "colorbar": {
              "outlinewidth": 0,
              "ticks": ""
             }
            },
            "type": "scattergeo"
           }
          ],
          "scattergl": [
           {
            "marker": {
             "colorbar": {
              "outlinewidth": 0,
              "ticks": ""
             }
            },
            "type": "scattergl"
           }
          ],
          "scattermapbox": [
           {
            "marker": {
             "colorbar": {
              "outlinewidth": 0,
              "ticks": ""
             }
            },
            "type": "scattermapbox"
           }
          ],
          "scatterpolar": [
           {
            "marker": {
             "colorbar": {
              "outlinewidth": 0,
              "ticks": ""
             }
            },
            "type": "scatterpolar"
           }
          ],
          "scatterpolargl": [
           {
            "marker": {
             "colorbar": {
              "outlinewidth": 0,
              "ticks": ""
             }
            },
            "type": "scatterpolargl"
           }
          ],
          "scatterternary": [
           {
            "marker": {
             "colorbar": {
              "outlinewidth": 0,
              "ticks": ""
             }
            },
            "type": "scatterternary"
           }
          ],
          "surface": [
           {
            "colorbar": {
             "outlinewidth": 0,
             "ticks": ""
            },
            "colorscale": [
             [
              0,
              "#0d0887"
             ],
             [
              0.1111111111111111,
              "#46039f"
             ],
             [
              0.2222222222222222,
              "#7201a8"
             ],
             [
              0.3333333333333333,
              "#9c179e"
             ],
             [
              0.4444444444444444,
              "#bd3786"
             ],
             [
              0.5555555555555556,
              "#d8576b"
             ],
             [
              0.6666666666666666,
              "#ed7953"
             ],
             [
              0.7777777777777778,
              "#fb9f3a"
             ],
             [
              0.8888888888888888,
              "#fdca26"
             ],
             [
              1,
              "#f0f921"
             ]
            ],
            "type": "surface"
           }
          ],
          "table": [
           {
            "cells": {
             "fill": {
              "color": "#EBF0F8"
             },
             "line": {
              "color": "white"
             }
            },
            "header": {
             "fill": {
              "color": "#C8D4E3"
             },
             "line": {
              "color": "white"
             }
            },
            "type": "table"
           }
          ]
         },
         "layout": {
          "annotationdefaults": {
           "arrowcolor": "#2a3f5f",
           "arrowhead": 0,
           "arrowwidth": 1
          },
          "autotypenumbers": "strict",
          "coloraxis": {
           "colorbar": {
            "outlinewidth": 0,
            "ticks": ""
           }
          },
          "colorscale": {
           "diverging": [
            [
             0,
             "#8e0152"
            ],
            [
             0.1,
             "#c51b7d"
            ],
            [
             0.2,
             "#de77ae"
            ],
            [
             0.3,
             "#f1b6da"
            ],
            [
             0.4,
             "#fde0ef"
            ],
            [
             0.5,
             "#f7f7f7"
            ],
            [
             0.6,
             "#e6f5d0"
            ],
            [
             0.7,
             "#b8e186"
            ],
            [
             0.8,
             "#7fbc41"
            ],
            [
             0.9,
             "#4d9221"
            ],
            [
             1,
             "#276419"
            ]
           ],
           "sequential": [
            [
             0,
             "#0d0887"
            ],
            [
             0.1111111111111111,
             "#46039f"
            ],
            [
             0.2222222222222222,
             "#7201a8"
            ],
            [
             0.3333333333333333,
             "#9c179e"
            ],
            [
             0.4444444444444444,
             "#bd3786"
            ],
            [
             0.5555555555555556,
             "#d8576b"
            ],
            [
             0.6666666666666666,
             "#ed7953"
            ],
            [
             0.7777777777777778,
             "#fb9f3a"
            ],
            [
             0.8888888888888888,
             "#fdca26"
            ],
            [
             1,
             "#f0f921"
            ]
           ],
           "sequentialminus": [
            [
             0,
             "#0d0887"
            ],
            [
             0.1111111111111111,
             "#46039f"
            ],
            [
             0.2222222222222222,
             "#7201a8"
            ],
            [
             0.3333333333333333,
             "#9c179e"
            ],
            [
             0.4444444444444444,
             "#bd3786"
            ],
            [
             0.5555555555555556,
             "#d8576b"
            ],
            [
             0.6666666666666666,
             "#ed7953"
            ],
            [
             0.7777777777777778,
             "#fb9f3a"
            ],
            [
             0.8888888888888888,
             "#fdca26"
            ],
            [
             1,
             "#f0f921"
            ]
           ]
          },
          "colorway": [
           "#636efa",
           "#EF553B",
           "#00cc96",
           "#ab63fa",
           "#FFA15A",
           "#19d3f3",
           "#FF6692",
           "#B6E880",
           "#FF97FF",
           "#FECB52"
          ],
          "font": {
           "color": "#2a3f5f"
          },
          "geo": {
           "bgcolor": "white",
           "lakecolor": "white",
           "landcolor": "#E5ECF6",
           "showlakes": true,
           "showland": true,
           "subunitcolor": "white"
          },
          "hoverlabel": {
           "align": "left"
          },
          "hovermode": "closest",
          "mapbox": {
           "style": "light"
          },
          "paper_bgcolor": "white",
          "plot_bgcolor": "#E5ECF6",
          "polar": {
           "angularaxis": {
            "gridcolor": "white",
            "linecolor": "white",
            "ticks": ""
           },
           "bgcolor": "#E5ECF6",
           "radialaxis": {
            "gridcolor": "white",
            "linecolor": "white",
            "ticks": ""
           }
          },
          "scene": {
           "xaxis": {
            "backgroundcolor": "#E5ECF6",
            "gridcolor": "white",
            "gridwidth": 2,
            "linecolor": "white",
            "showbackground": true,
            "ticks": "",
            "zerolinecolor": "white"
           },
           "yaxis": {
            "backgroundcolor": "#E5ECF6",
            "gridcolor": "white",
            "gridwidth": 2,
            "linecolor": "white",
            "showbackground": true,
            "ticks": "",
            "zerolinecolor": "white"
           },
           "zaxis": {
            "backgroundcolor": "#E5ECF6",
            "gridcolor": "white",
            "gridwidth": 2,
            "linecolor": "white",
            "showbackground": true,
            "ticks": "",
            "zerolinecolor": "white"
           }
          },
          "shapedefaults": {
           "line": {
            "color": "#2a3f5f"
           }
          },
          "ternary": {
           "aaxis": {
            "gridcolor": "white",
            "linecolor": "white",
            "ticks": ""
           },
           "baxis": {
            "gridcolor": "white",
            "linecolor": "white",
            "ticks": ""
           },
           "bgcolor": "#E5ECF6",
           "caxis": {
            "gridcolor": "white",
            "linecolor": "white",
            "ticks": ""
           }
          },
          "title": {
           "x": 0.05
          },
          "xaxis": {
           "automargin": true,
           "gridcolor": "white",
           "linecolor": "white",
           "ticks": "",
           "title": {
            "standoff": 15
           },
           "zerolinecolor": "white",
           "zerolinewidth": 2
          },
          "yaxis": {
           "automargin": true,
           "gridcolor": "white",
           "linecolor": "white",
           "ticks": "",
           "title": {
            "standoff": 15
           },
           "zerolinecolor": "white",
           "zerolinewidth": 2
          }
         }
        },
        "title": {
         "text": "PCA Loadings - Boston housing"
        },
        "xaxis": {
         "anchor": "y",
         "domain": [
          0,
          1
         ],
         "title": {
          "text": "PC1"
         }
        },
        "yaxis": {
         "anchor": "x",
         "domain": [
          0,
          1
         ],
         "title": {
          "text": "PC2"
         }
        }
       }
      }
     },
     "metadata": {},
     "output_type": "display_data"
    }
   ],
   "source": [
    "fig = px.scatter(pca_fit, x=0, y=1, title=\"PCA Loadings - Boston housing\",\n",
    "                 labels={'0': 'PC1', '1': 'PC2'})\n",
    "\n",
    "for i, feature in enumerate(features):\n",
    "    fig.add_annotation(\n",
    "        ax=0, ay=0,\n",
    "        axref=\"x\", ayref=\"y\",\n",
    "        x=loadings[i, 0],\n",
    "        y=loadings[i, 1],\n",
    "        showarrow=True,\n",
    "        arrowsize=2,\n",
    "        arrowhead=2,\n",
    "        xanchor=\"right\",\n",
    "        yanchor=\"top\"\n",
    "    )\n",
    "    fig.add_annotation(\n",
    "        x=loadings[i, 0],\n",
    "        y=loadings[i, 1],\n",
    "        ax=0, ay=0,\n",
    "        xanchor=\"center\",\n",
    "        yanchor=\"bottom\",\n",
    "        text=feature,\n",
    "        yshift=5,\n",
    "    )\n",
    "fig.show()"
   ]
  },
  {
   "cell_type": "markdown",
   "metadata": {},
   "source": [
    "Analyse the PC scores/loadings"
   ]
  },
  {
   "cell_type": "code",
   "execution_count": 43,
   "metadata": {},
   "outputs": [
    {
     "data": {
      "text/html": [
       "<div>\n",
       "<style scoped>\n",
       "    .dataframe tbody tr th:only-of-type {\n",
       "        vertical-align: middle;\n",
       "    }\n",
       "\n",
       "    .dataframe tbody tr th {\n",
       "        vertical-align: top;\n",
       "    }\n",
       "\n",
       "    .dataframe thead th {\n",
       "        text-align: right;\n",
       "    }\n",
       "</style>\n",
       "<table border=\"1\" class=\"dataframe\">\n",
       "  <thead>\n",
       "    <tr style=\"text-align: right;\">\n",
       "      <th></th>\n",
       "      <th>PC1</th>\n",
       "      <th>PC2</th>\n",
       "    </tr>\n",
       "  </thead>\n",
       "  <tbody>\n",
       "    <tr>\n",
       "      <th>CRIM</th>\n",
       "      <td>0.646577</td>\n",
       "      <td>-0.343173</td>\n",
       "    </tr>\n",
       "    <tr>\n",
       "      <th>ZN</th>\n",
       "      <td>-0.658121</td>\n",
       "      <td>-0.293593</td>\n",
       "    </tr>\n",
       "    <tr>\n",
       "      <th>INDUS</th>\n",
       "      <td>0.853800</td>\n",
       "      <td>0.143122</td>\n",
       "    </tr>\n",
       "    <tr>\n",
       "      <th>CHAS</th>\n",
       "      <td>0.019649</td>\n",
       "      <td>0.702412</td>\n",
       "    </tr>\n",
       "    <tr>\n",
       "      <th>NOX</th>\n",
       "      <td>0.841981</td>\n",
       "      <td>0.263890</td>\n",
       "    </tr>\n",
       "    <tr>\n",
       "      <th>RM</th>\n",
       "      <td>-0.493296</td>\n",
       "      <td>0.344174</td>\n",
       "    </tr>\n",
       "    <tr>\n",
       "      <th>AGE</th>\n",
       "      <td>0.799205</td>\n",
       "      <td>0.305741</td>\n",
       "    </tr>\n",
       "    <tr>\n",
       "      <th>DIS</th>\n",
       "      <td>-0.808983</td>\n",
       "      <td>-0.378406</td>\n",
       "    </tr>\n",
       "    <tr>\n",
       "      <th>RAD</th>\n",
       "      <td>0.770654</td>\n",
       "      <td>-0.218669</td>\n",
       "    </tr>\n",
       "    <tr>\n",
       "      <th>TAX</th>\n",
       "      <td>0.817384</td>\n",
       "      <td>-0.196810</td>\n",
       "    </tr>\n",
       "    <tr>\n",
       "      <th>PTRATIO</th>\n",
       "      <td>0.535844</td>\n",
       "      <td>-0.401838</td>\n",
       "    </tr>\n",
       "    <tr>\n",
       "      <th>LSTAT</th>\n",
       "      <td>0.787715</td>\n",
       "      <td>-0.210109</td>\n",
       "    </tr>\n",
       "  </tbody>\n",
       "</table>\n",
       "</div>"
      ],
      "text/plain": [
       "              PC1       PC2\n",
       "CRIM     0.646577 -0.343173\n",
       "ZN      -0.658121 -0.293593\n",
       "INDUS    0.853800  0.143122\n",
       "CHAS     0.019649  0.702412\n",
       "NOX      0.841981  0.263890\n",
       "RM      -0.493296  0.344174\n",
       "AGE      0.799205  0.305741\n",
       "DIS     -0.808983 -0.378406\n",
       "RAD      0.770654 -0.218669\n",
       "TAX      0.817384 -0.196810\n",
       "PTRATIO  0.535844 -0.401838\n",
       "LSTAT    0.787715 -0.210109"
      ]
     },
     "execution_count": 43,
     "metadata": {},
     "output_type": "execute_result"
    }
   ],
   "source": [
    "# print the scores\n",
    "pd.DataFrame(loadings,\n",
    "             index=features,\n",
    "             columns=['PC1', 'PC2'])"
   ]
  },
  {
   "cell_type": "markdown",
   "metadata": {},
   "source": [
    "Comments:\n",
    "\n",
    "PC1: represents spatial density and socio-economic factors\n",
    "- Positive influence: INDUS, NOX, AGE, TAX, CRIM, RAD, LSTAT\n",
    "- Negative influence: DIS, ZN, RM\n",
    "\n",
    "PC2: represents lifestyle and liveability \n",
    "- Positive influence: CHAS,RM, INDUS, AGE\n",
    "- Negative influence: CRIM, ZN, DIS, PTRATIO\n"
   ]
  }
 ],
 "metadata": {
  "kernelspec": {
   "display_name": "Python 3",
   "language": "python",
   "name": "python3"
  },
  "language_info": {
   "codemirror_mode": {
    "name": "ipython",
    "version": 3
   },
   "file_extension": ".py",
   "mimetype": "text/x-python",
   "name": "python",
   "nbconvert_exporter": "python",
   "pygments_lexer": "ipython3",
   "version": "3.11.2"
  }
 },
 "nbformat": 4,
 "nbformat_minor": 2
}
